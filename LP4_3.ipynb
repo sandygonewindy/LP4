{
  "nbformat": 4,
  "nbformat_minor": 0,
  "metadata": {
    "colab": {
      "provenance": []
    },
    "kernelspec": {
      "name": "python3",
      "display_name": "Python 3"
    },
    "language_info": {
      "name": "python"
    }
  },
  "cells": [
    {
      "cell_type": "markdown",
      "source": [
        "# LP4 Assignment 4\n",
        "## Sudeep Mangalvedhekar\n",
        "## 43147"
      ],
      "metadata": {
        "id": "QNwEsgyFwsZJ"
      }
    },
    {
      "cell_type": "code",
      "execution_count": 9,
      "metadata": {
        "id": "SOkr8lV5Y46X"
      },
      "outputs": [],
      "source": [
        "import tensorflow as tf\n",
        "import tensorflow.keras.layers as tfl\n",
        "from tensorflow.keras.utils import to_categorical\n",
        "from matplotlib import pyplot as plt\n",
        "from tensorflow.keras.datasets import mnist\n",
        "import numpy as np"
      ]
    },
    {
      "cell_type": "code",
      "execution_count": 8,
      "metadata": {
        "id": "mLUFBBKPJ34z"
      },
      "outputs": [],
      "source": [
        "def load_dataset():\n",
        "  (x_train, y_train), (x_test, y_test) = mnist.load_data()\n",
        "  # Reshape data to have only 1 channel\n",
        "  x_train = x_train.reshape((x_train.shape[0], x_train.shape[1], x_train.shape[2], 1))\n",
        "  x_test = x_test.reshape((x_test.shape[0], x_test.shape[1], x_test.shape[2], 1))\n",
        "  return [x_train, y_train, x_test, y_test]"
      ]
    },
    {
      "cell_type": "code",
      "source": [
        "def pre_process_data(x_train, x_test, y_train, y_test):\n",
        "  # Normalize\n",
        "  x_train = x_train.astype('float64')\n",
        "  x_test = x_test.astype('float64')\n",
        "\n",
        "  x_train /= 255.0\n",
        "  x_test /= 255.0\n",
        "\n",
        "  # One hot encode labels\n",
        "  y_train = to_categorical(y_train)\n",
        "  y_test = to_categorical(y_test)\n",
        "  \n",
        "  return [x_train, y_train, x_test, y_test]"
      ],
      "metadata": {
        "id": "VQmGaGweaVEs"
      },
      "execution_count": 10,
      "outputs": []
    },
    {
      "cell_type": "code",
      "source": [
        "def model_def():\n",
        "  model = tf.keras.Sequential([\n",
        "      tf.keras.Input(shape = (28, 28, 1)),\n",
        "      tfl.ZeroPadding2D(3),\n",
        "      tfl.Conv2D(32, 3, strides = 1),\n",
        "      tfl.ReLU(),\n",
        "      tfl.MaxPooling2D(),\n",
        "      tfl.Conv2D(64, 3, strides = 2),\n",
        "      tfl.ReLU(),\n",
        "      tfl.MaxPooling2D(),\n",
        "      tfl.Flatten(),\n",
        "      tfl.Dense(128, activation = 'relu'),\n",
        "      tfl.Dropout(0.3),\n",
        "      tfl.Dense(10, activation = 'softmax')\n",
        "  ])\n",
        "  model.compile(optimizer = 'adam', loss = 'categorical_crossentropy', metrics = ['accuracy'])\n",
        "  return model"
      ],
      "metadata": {
        "id": "YKXaRN_eawDr"
      },
      "execution_count": 34,
      "outputs": []
    },
    {
      "cell_type": "code",
      "source": [
        "def evaluate_model():\n",
        "  #load data\n",
        "  x_train, y_train, x_test, y_test = load_dataset()\n",
        "  # data preprocessing\n",
        "  x_train, y_train, x_test, y_test = pre_process_data(x_train, x_test, y_train, y_test)\n",
        "  #load model\n",
        "  model = model_def()\n",
        "  #train model\n",
        "  epochs = 10\n",
        "  batch_size = 64\n",
        "  model_history = model.fit(x = x_train, y = y_train, epochs = epochs, batch_size = batch_size)\n",
        "  #evaluate model\n",
        "  test_loss, test_accuracy = model.evaluate(x_test, y_test)\n",
        "  return test_loss, test_accuracy, model_history"
      ],
      "metadata": {
        "id": "avswN40lbm1J"
      },
      "execution_count": 35,
      "outputs": []
    },
    {
      "cell_type": "code",
      "source": [
        "test_loss, test_accuracy, model_history = evaluate_model()"
      ],
      "metadata": {
        "colab": {
          "base_uri": "https://localhost:8080/"
        },
        "id": "NBgcMCYTp57i",
        "outputId": "d6c26e6d-d306-466b-bf27-ce67464d4091"
      },
      "execution_count": 36,
      "outputs": [
        {
          "output_type": "stream",
          "name": "stdout",
          "text": [
            "Epoch 1/10\n",
            "938/938 [==============================] - 48s 50ms/step - loss: 0.3030 - accuracy: 0.9055\n",
            "Epoch 2/10\n",
            "938/938 [==============================] - 48s 51ms/step - loss: 0.1010 - accuracy: 0.9694\n",
            "Epoch 3/10\n",
            "938/938 [==============================] - 47s 50ms/step - loss: 0.0733 - accuracy: 0.9775\n",
            "Epoch 4/10\n",
            "938/938 [==============================] - 47s 50ms/step - loss: 0.0593 - accuracy: 0.9821\n",
            "Epoch 5/10\n",
            "938/938 [==============================] - 47s 50ms/step - loss: 0.0504 - accuracy: 0.9844\n",
            "Epoch 6/10\n",
            "938/938 [==============================] - 48s 51ms/step - loss: 0.0426 - accuracy: 0.9863\n",
            "Epoch 7/10\n",
            "938/938 [==============================] - 49s 52ms/step - loss: 0.0372 - accuracy: 0.9876\n",
            "Epoch 8/10\n",
            "938/938 [==============================] - 46s 49ms/step - loss: 0.0325 - accuracy: 0.9898\n",
            "Epoch 9/10\n",
            "938/938 [==============================] - 45s 48ms/step - loss: 0.0292 - accuracy: 0.9910\n",
            "Epoch 10/10\n",
            "938/938 [==============================] - 48s 51ms/step - loss: 0.0260 - accuracy: 0.9916\n",
            "313/313 [==============================] - 3s 10ms/step - loss: 0.0418 - accuracy: 0.9886\n"
          ]
        }
      ]
    },
    {
      "cell_type": "code",
      "source": [
        "print(f\"Test Accuracy = {test_accuracy * 100} %\")"
      ],
      "metadata": {
        "colab": {
          "base_uri": "https://localhost:8080/"
        },
        "id": "yR212bAJqxyx",
        "outputId": "399e72de-68a9-4c2a-e6c9-cd934d9c98b3"
      },
      "execution_count": 40,
      "outputs": [
        {
          "output_type": "stream",
          "name": "stdout",
          "text": [
            "Test Accuracy = 98.86000156402588 %\n"
          ]
        }
      ]
    },
    {
      "cell_type": "code",
      "source": [],
      "metadata": {
        "id": "S3GKc0frwi0q"
      },
      "execution_count": null,
      "outputs": []
    }
  ]
}