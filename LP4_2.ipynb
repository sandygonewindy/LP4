{
  "nbformat": 4,
  "nbformat_minor": 0,
  "metadata": {
    "colab": {
      "provenance": []
    },
    "kernelspec": {
      "name": "python3",
      "display_name": "Python 3"
    },
    "language_info": {
      "name": "python"
    }
  },
  "cells": [
    {
      "cell_type": "markdown",
      "source": [
        "# LP4 Assignment 2\n",
        "## Sudeep Mangalvedhekar\n",
        "## 43147"
      ],
      "metadata": {
        "id": "AVvGWwWRYaPH"
      }
    },
    {
      "cell_type": "code",
      "execution_count": 26,
      "metadata": {
        "id": "mLUFBBKPJ34z"
      },
      "outputs": [],
      "source": [
        "import tensorflow as tf\n",
        "import tensorflow.keras.layers as tfl\n",
        "from tensorflow.keras.optimizers import SGD\n",
        "from tensorflow.keras.utils import to_categorical\n",
        "from matplotlib import pyplot as plt\n",
        "from tensorflow.keras.datasets import mnist\n",
        "import numpy as np"
      ]
    },
    {
      "cell_type": "code",
      "source": [],
      "metadata": {
        "id": "Oe6ZazEeK-yu"
      },
      "execution_count": 6,
      "outputs": []
    },
    {
      "cell_type": "code",
      "source": [
        "def load_dataset():\n",
        "  (x_train, y_train), (x_test, y_test) = mnist.load_data()\n",
        "  # reshape data\n",
        "  pixels = x_train.shape[1] * x_train.shape[2]\n",
        "  x_train = x_train.reshape((x_train.shape[0], pixels))\n",
        "  x_test = x_test.reshape((x_test.shape[0], pixels)) \n",
        "  # one hot encode labels\n",
        "  y_train = to_categorical(y_train)\n",
        "  y_test = to_categorical(y_test)\n",
        "  return [x_train, y_train, x_test, y_test, pixels]"
      ],
      "metadata": {
        "id": "Ua3mwJoDLgUQ"
      },
      "execution_count": 27,
      "outputs": []
    },
    {
      "cell_type": "code",
      "source": [
        "def normalize(x_train, x_test):\n",
        "  x_train = x_train.astype('float64')\n",
        "  x_test = x_test.astype('float64')\n",
        "  x_train /= 255.0\n",
        "  x_test /= 255.0\n",
        "  return [x_train, x_test]"
      ],
      "metadata": {
        "id": "O-IIGQ7IPG58"
      },
      "execution_count": 28,
      "outputs": []
    },
    {
      "cell_type": "code",
      "source": [
        "def model_def(pixels):\n",
        "  model = tf.keras.Sequential([\n",
        "      tfl.Dense(pixels, activation = 'relu'),\n",
        "      tfl.Dense(10, activation = 'softmax')\n",
        "  ])\n",
        "  optimizer = SGD(learning_rate = 0.01, momentum = 0.9)\n",
        "  model.compile(optimizer = optimizer, loss = 'categorical_crossentropy', metrics = ['accuracy'])\n",
        "  return model"
      ],
      "metadata": {
        "id": "oV5jPMLiPJ22"
      },
      "execution_count": 29,
      "outputs": []
    },
    {
      "cell_type": "code",
      "source": [
        "def evaluate_model():\n",
        "  #load data\n",
        "  x_train, y_train, x_test, y_test, pixels = load_dataset()\n",
        "  #normalize data\n",
        "  x_train, x_test = normalize(x_train, x_test)\n",
        "  #train model\n",
        "  model = model_def(pixels)\n",
        "  batch_size = 128\n",
        "  epochs = 5\n",
        "  model_history = model.fit(x = x_train, y = y_train, batch_size = batch_size, epochs = epochs)\n",
        "\n",
        "  test_loss, test_accuracy = model.evaluate(x_test, y_test)\n",
        "\n",
        "  return test_loss, test_accuracy, model_history"
      ],
      "metadata": {
        "id": "qRrKSvP5QAXc"
      },
      "execution_count": 30,
      "outputs": []
    },
    {
      "cell_type": "code",
      "source": [
        "def plot_performance(model_history):\n",
        "  training_loss = model_history.history['loss']\n",
        "  training_accuracy = model_history.history['accuracy']\n",
        "  epochs = len(training_loss)\n",
        "  plt.figure(figsize = (8, 8))\n",
        "  plt.title(\"Training Loss\")\n",
        "  plt.plot(np.arange(1, epochs + 1), training_loss, color = 'b')\n",
        "  plt.show()\n",
        "  plt.figure(figsize = (8, 8))\n",
        "  plt.title(\"Training Accuracy\")\n",
        "  plt.plot(np.arange(1, epochs + 1), training_accuracy, color = 'r')\n",
        "  plt.show()"
      ],
      "metadata": {
        "id": "MWZnA_81QrOs"
      },
      "execution_count": 36,
      "outputs": []
    },
    {
      "cell_type": "code",
      "source": [
        "test_loss, test_accuracy, model_history = evaluate_model()"
      ],
      "metadata": {
        "colab": {
          "base_uri": "https://localhost:8080/"
        },
        "id": "oyMaP5ubWwyv",
        "outputId": "54290946-21e3-451a-82a1-eea8c79f42dc"
      },
      "execution_count": 32,
      "outputs": [
        {
          "output_type": "stream",
          "name": "stdout",
          "text": [
            "Epoch 1/5\n",
            "469/469 [==============================] - 6s 12ms/step - loss: 0.4523 - accuracy: 0.8778\n",
            "Epoch 2/5\n",
            "469/469 [==============================] - 5s 12ms/step - loss: 0.2436 - accuracy: 0.9316\n",
            "Epoch 3/5\n",
            "469/469 [==============================] - 5s 11ms/step - loss: 0.1926 - accuracy: 0.9462\n",
            "Epoch 4/5\n",
            "469/469 [==============================] - 5s 11ms/step - loss: 0.1611 - accuracy: 0.9546\n",
            "Epoch 5/5\n",
            "469/469 [==============================] - 5s 12ms/step - loss: 0.1378 - accuracy: 0.9614\n",
            "313/313 [==============================] - 1s 4ms/step - loss: 0.1318 - accuracy: 0.9619\n"
          ]
        }
      ]
    },
    {
      "cell_type": "code",
      "source": [
        "plot_performance(model_history)"
      ],
      "metadata": {
        "colab": {
          "base_uri": "https://localhost:8080/",
          "height": 981
        },
        "id": "WHKvxegfW8AG",
        "outputId": "bfa9ed33-5a53-4f4c-c80c-bdfe9e3aea25"
      },
      "execution_count": 37,
      "outputs": [
        {
          "output_type": "display_data",
          "data": {
            "text/plain": [
              "<Figure size 576x576 with 1 Axes>"
            ],
            "image/png": "[encoded data removed]"
          },
          "metadata": {
            "needs_background": "light"
          }
        },
        {
          "output_type": "display_data",
          "data": {
            "text/plain": [
              "<Figure size 576x576 with 1 Axes>"
            ],
            "image/png": "[encoded data removed]"
          },
          "metadata": {
            "needs_background": "light"
          }
        }
      ]
    },
    {
      "cell_type": "code",
      "source": [],
      "metadata": {
        "id": "wJgc5IxIX5uQ"
      },
      "execution_count": null,
      "outputs": []
    }
  ]
}