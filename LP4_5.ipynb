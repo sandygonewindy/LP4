{
  "nbformat": 4,
  "nbformat_minor": 0,
  "metadata": {
    "colab": {
      "provenance": []
    },
    "kernelspec": {
      "name": "python3",
      "display_name": "Python 3"
    },
    "language_info": {
      "name": "python"
    }
  },
  "cells": [
    {
      "cell_type": "markdown",
      "source": [
        "# LP4 Assignment 5\n",
        "## Sudeep Mangalvedhekar\n",
        "## 43147"
      ],
      "metadata": {
        "id": "2a_IUjuwM6lN"
      }
    },
    {
      "cell_type": "code",
      "execution_count": 20,
      "metadata": {
        "id": "V51q50EbF-T9"
      },
      "outputs": [],
      "source": [
        "from keras.preprocessing import text\n",
        "from keras.utils import np_utils\n",
        "from keras.preprocessing import sequence\n",
        "from keras.utils import pad_sequences\n",
        "import keras.backend as K\n",
        "from keras.models import Sequential\n",
        "from keras.layers import Dense, Embedding, Lambda\n",
        "import numpy as np\n",
        "import pandas as pd"
      ]
    },
    {
      "cell_type": "code",
      "source": [
        "words = \"\"\"Machine learning is a field of inquiry devoted to understanding and building methods that learn, that is, methods that leverage data to improve performance on some set of tasks. It is seen as a part of artificial intelligence. Machine learning algorithms build a model based on sample data, known as training data, in order to make predictions or decisions without being explicitly programmed to do so. Machine learning algorithms are used in a wide variety of applications, such as in medicine, email filtering, speech recognition, and computer vision, where it is difficult or unfeasible to develop conventional algorithms to perform the needed tasks.\n",
        "A subset of machine learning is closely related to computational statistics, which focuses on making predictions using computers, but not all machine learning is statistical learning. The study of mathematical optimization delivers methods, theory and application domains to the field of machine learning. Data mining is a related field of study, focusing on exploratory data analysis through unsupervised learning. Some implementations of machine learning use data and neural networks in a way that mimics the working of a biological brain. In its application across business problems, machine learning is also referred to as predictive analytics.\"\"\"\n"
      ],
      "metadata": {
        "id": "YN1qaJDiQ85Y"
      },
      "execution_count": 21,
      "outputs": []
    },
    {
      "cell_type": "code",
      "source": [
        "data = words.split()\n",
        "tokenizer = text.Tokenizer()\n",
        "tokenizer.fit_on_texts(data)\n",
        "word_id = tokenizer.word_index"
      ],
      "metadata": {
        "id": "29L-FDDPYPBo"
      },
      "execution_count": 22,
      "outputs": []
    },
    {
      "cell_type": "code",
      "source": [
        "word_id['PAD'] = 0\n",
        "id_word = {v:k for k, v in word_id.items()}\n",
        "wids = [[word_id[w] for w in text.text_to_word_sequence(doc)] for doc in data]\n",
        "\n",
        "vocab_size = len(word_id)\n",
        "embed_size = 100\n",
        "window_size = 2 "
      ],
      "metadata": {
        "id": "6MuHUxoQYVQU"
      },
      "execution_count": 23,
      "outputs": []
    },
    {
      "cell_type": "code",
      "source": [
        "def context_word_pairs(corpus, window_size, vocab_size):\n",
        "    context_length = window_size * 2\n",
        "    for words in corpus:\n",
        "        sentence_length = len(words)\n",
        "        for index, word in enumerate(words):\n",
        "            context_words = []\n",
        "            label_word   = []            \n",
        "            start = index - window_size\n",
        "            end = index + window_size + 1\n",
        "            \n",
        "            context_words.append([words[i] \n",
        "                                 for i in range(start, end) \n",
        "                                 if 0 <= i < sentence_length \n",
        "                                 and i != index])\n",
        "            label_word.append(word)\n",
        "\n",
        "            x = pad_sequences(context_words, maxlen=context_length)\n",
        "            y = np_utils.to_categorical(label_word, vocab_size)\n",
        "            yield (x, y)"
      ],
      "metadata": {
        "id": "AWq4mJ7GZMku"
      },
      "execution_count": 32,
      "outputs": []
    },
    {
      "cell_type": "code",
      "source": [
        "cbow = Sequential()\n",
        "cbow.add(Embedding(input_dim = vocab_size, output_dim = embed_size, input_length = window_size * 2))\n",
        "cbow.add(Lambda(lambda x: K.mean(x, axis = 1), output_shape = (embed_size,)))\n",
        "cbow.add(Dense(vocab_size, activation = 'softmax'))\n",
        "cbow.compile(loss = 'categorical_crossentropy', optimizer = 'rmsprop')\n",
        "\n",
        "cbow.summary()"
      ],
      "metadata": {
        "colab": {
          "base_uri": "https://localhost:8080/"
        },
        "id": "rRFMTuJ8aWpk",
        "outputId": "5a6c390a-5132-432b-aeb0-459d50fcd294"
      },
      "execution_count": 33,
      "outputs": [
        {
          "output_type": "stream",
          "name": "stdout",
          "text": [
            "Model: \"sequential_4\"\n",
            "_________________________________________________________________\n",
            " Layer (type)                Output Shape              Param #   \n",
            "=================================================================\n",
            " embedding_4 (Embedding)     (None, 4, 100)            11400     \n",
            "                                                                 \n",
            " lambda_4 (Lambda)           (None, 100)               0         \n",
            "                                                                 \n",
            " dense_4 (Dense)             (None, 114)               11514     \n",
            "                                                                 \n",
            "=================================================================\n",
            "Total params: 22,914\n",
            "Trainable params: 22,914\n",
            "Non-trainable params: 0\n",
            "_________________________________________________________________\n"
          ]
        }
      ]
    },
    {
      "cell_type": "code",
      "source": [
        "for epoch in range(1, 6):\n",
        "    loss = 0.\n",
        "    i = 0\n",
        "    for x, y in context_word_pairs(corpus = wids, window_size = window_size, vocab_size = vocab_size):\n",
        "        i += 1\n",
        "        loss += cbow.train_on_batch(x, y)\n",
        "        if i % 100000 == 0:\n",
        "            print('Processed {} (context, word) pairs'.format(i))\n",
        "\n",
        "    print('Epoch:', epoch, '\\tLoss:', loss)"
      ],
      "metadata": {
        "colab": {
          "base_uri": "https://localhost:8080/"
        },
        "id": "j6PNmARVagib",
        "outputId": "049b441c-8534-4d40-96c3-537ecebb669a"
      },
      "execution_count": 34,
      "outputs": [
        {
          "output_type": "stream",
          "name": "stdout",
          "text": [
            "Epoch: 1 \tLoss: 930.3021101951599\n",
            "Epoch: 2 \tLoss: 895.9225301742554\n",
            "Epoch: 3 \tLoss: 883.9017984867096\n",
            "Epoch: 4 \tLoss: 880.0481750965118\n",
            "Epoch: 5 \tLoss: 877.5646753311157\n"
          ]
        }
      ]
    },
    {
      "cell_type": "code",
      "source": [
        "weights = cbow.get_weights()[0]\n",
        "weights = weights[1:]\n",
        "print(weights.shape)\n",
        "\n",
        "pd.DataFrame(weights, index = list(id_word.values())[1:]).head()"
      ],
      "metadata": {
        "colab": {
          "base_uri": "https://localhost:8080/",
          "height": 317
        },
        "id": "_f3dA5A7au4L",
        "outputId": "ad6c21be-0f53-4087-aa72-9d3794960144"
      },
      "execution_count": 35,
      "outputs": [
        {
          "output_type": "stream",
          "name": "stdout",
          "text": [
            "(113, 100)\n"
          ]
        },
        {
          "output_type": "execute_result",
          "data": {
            "text/plain": [
              "               0         1         2         3         4         5         6   \\\n",
              "of      -0.048941  0.000117 -0.037539  0.048601 -0.016828 -0.026413 -0.010593   \n",
              "to      -0.026185 -0.041119  0.009876 -0.010092 -0.011144 -0.027401  0.017925   \n",
              "machine  0.017866 -0.046512  0.031775  0.039631 -0.019082 -0.007789 -0.005886   \n",
              "is       0.023588 -0.042624 -0.033366 -0.036219  0.021758 -0.033087  0.041991   \n",
              "a        0.010195  0.046708  0.014745  0.022070 -0.002705 -0.043659 -0.031714   \n",
              "\n",
              "               7         8         9   ...        90        91        92  \\\n",
              "of       0.030688 -0.026337 -0.010564  ... -0.010782 -0.024050 -0.045778   \n",
              "to      -0.033435  0.046328  0.009438  ... -0.016890 -0.044985 -0.041780   \n",
              "machine -0.002875 -0.011630  0.031239  ... -0.033641  0.038276 -0.047828   \n",
              "is      -0.049666  0.001930 -0.009174  ... -0.048147  0.038943  0.008366   \n",
              "a       -0.005770  0.009226  0.038061  ... -0.008277 -0.031105  0.044923   \n",
              "\n",
              "               93        94        95        96        97        98        99  \n",
              "of       0.029327 -0.025733 -0.016876  0.001123 -0.020288  0.014119 -0.017256  \n",
              "to      -0.049175  0.042389 -0.007941  0.030295  0.029686  0.000743 -0.004645  \n",
              "machine  0.041901  0.017795  0.026543 -0.028124  0.043737 -0.039543 -0.006502  \n",
              "is      -0.035012 -0.013942 -0.036681  0.045836  0.045886 -0.035563  0.022609  \n",
              "a        0.018262  0.034401 -0.018318  0.026816  0.022182  0.026933  0.019538  \n",
              "\n",
              "[5 rows x 100 columns]"
            ],
            "text/html": [
              "\n",
              "  <div id=\"df-0bda966b-ce81-4eec-a19f-63acbadfb456\">\n",
              "    <div class=\"colab-df-container\">\n",
              "      <div>\n",
              "<style scoped>\n",
              "    .dataframe tbody tr th:only-of-type {\n",
              "        vertical-align: middle;\n",
              "    }\n",
              "\n",
              "    .dataframe tbody tr th {\n",
              "        vertical-align: top;\n",
              "    }\n",
              "\n",
              "    .dataframe thead th {\n",
              "        text-align: right;\n",
              "    }\n",
              "</style>\n",
              "<table border=\"1\" class=\"dataframe\">\n",
              "  <thead>\n",
              "    <tr style=\"text-align: right;\">\n",
              "      <th></th>\n",
              "      <th>0</th>\n",
              "      <th>1</th>\n",
              "      <th>2</th>\n",
              "      <th>3</th>\n",
              "      <th>4</th>\n",
              "      <th>5</th>\n",
              "      <th>6</th>\n",
              "      <th>7</th>\n",
              "      <th>8</th>\n",
              "      <th>9</th>\n",
              "      <th>...</th>\n",
              "      <th>90</th>\n",
              "      <th>91</th>\n",
              "      <th>92</th>\n",
              "      <th>93</th>\n",
              "      <th>94</th>\n",
              "      <th>95</th>\n",
              "      <th>96</th>\n",
              "      <th>97</th>\n",
              "      <th>98</th>\n",
              "      <th>99</th>\n",
              "    </tr>\n",
              "  </thead>\n",
              "  <tbody>\n",
              "    <tr>\n",
              "      <th>of</th>\n",
              "      <td>-0.048941</td>\n",
              "      <td>0.000117</td>\n",
              "      <td>-0.037539</td>\n",
              "      <td>0.048601</td>\n",
              "      <td>-0.016828</td>\n",
              "      <td>-0.026413</td>\n",
              "      <td>-0.010593</td>\n",
              "      <td>0.030688</td>\n",
              "      <td>-0.026337</td>\n",
              "      <td>-0.010564</td>\n",
              "      <td>...</td>\n",
              "      <td>-0.010782</td>\n",
              "      <td>-0.024050</td>\n",
              "      <td>-0.045778</td>\n",
              "      <td>0.029327</td>\n",
              "      <td>-0.025733</td>\n",
              "      <td>-0.016876</td>\n",
              "      <td>0.001123</td>\n",
              "      <td>-0.020288</td>\n",
              "      <td>0.014119</td>\n",
              "      <td>-0.017256</td>\n",
              "    </tr>\n",
              "    <tr>\n",
              "      <th>to</th>\n",
              "      <td>-0.026185</td>\n",
              "      <td>-0.041119</td>\n",
              "      <td>0.009876</td>\n",
              "      <td>-0.010092</td>\n",
              "      <td>-0.011144</td>\n",
              "      <td>-0.027401</td>\n",
              "      <td>0.017925</td>\n",
              "      <td>-0.033435</td>\n",
              "      <td>0.046328</td>\n",
              "      <td>0.009438</td>\n",
              "      <td>...</td>\n",
              "      <td>-0.016890</td>\n",
              "      <td>-0.044985</td>\n",
              "      <td>-0.041780</td>\n",
              "      <td>-0.049175</td>\n",
              "      <td>0.042389</td>\n",
              "      <td>-0.007941</td>\n",
              "      <td>0.030295</td>\n",
              "      <td>0.029686</td>\n",
              "      <td>0.000743</td>\n",
              "      <td>-0.004645</td>\n",
              "    </tr>\n",
              "    <tr>\n",
              "      <th>machine</th>\n",
              "      <td>0.017866</td>\n",
              "      <td>-0.046512</td>\n",
              "      <td>0.031775</td>\n",
              "      <td>0.039631</td>\n",
              "      <td>-0.019082</td>\n",
              "      <td>-0.007789</td>\n",
              "      <td>-0.005886</td>\n",
              "      <td>-0.002875</td>\n",
              "      <td>-0.011630</td>\n",
              "      <td>0.031239</td>\n",
              "      <td>...</td>\n",
              "      <td>-0.033641</td>\n",
              "      <td>0.038276</td>\n",
              "      <td>-0.047828</td>\n",
              "      <td>0.041901</td>\n",
              "      <td>0.017795</td>\n",
              "      <td>0.026543</td>\n",
              "      <td>-0.028124</td>\n",
              "      <td>0.043737</td>\n",
              "      <td>-0.039543</td>\n",
              "      <td>-0.006502</td>\n",
              "    </tr>\n",
              "    <tr>\n",
              "      <th>is</th>\n",
              "      <td>0.023588</td>\n",
              "      <td>-0.042624</td>\n",
              "      <td>-0.033366</td>\n",
              "      <td>-0.036219</td>\n",
              "      <td>0.021758</td>\n",
              "      <td>-0.033087</td>\n",
              "      <td>0.041991</td>\n",
              "      <td>-0.049666</td>\n",
              "      <td>0.001930</td>\n",
              "      <td>-0.009174</td>\n",
              "      <td>...</td>\n",
              "      <td>-0.048147</td>\n",
              "      <td>0.038943</td>\n",
              "      <td>0.008366</td>\n",
              "      <td>-0.035012</td>\n",
              "      <td>-0.013942</td>\n",
              "      <td>-0.036681</td>\n",
              "      <td>0.045836</td>\n",
              "      <td>0.045886</td>\n",
              "      <td>-0.035563</td>\n",
              "      <td>0.022609</td>\n",
              "    </tr>\n",
              "    <tr>\n",
              "      <th>a</th>\n",
              "      <td>0.010195</td>\n",
              "      <td>0.046708</td>\n",
              "      <td>0.014745</td>\n",
              "      <td>0.022070</td>\n",
              "      <td>-0.002705</td>\n",
              "      <td>-0.043659</td>\n",
              "      <td>-0.031714</td>\n",
              "      <td>-0.005770</td>\n",
              "      <td>0.009226</td>\n",
              "      <td>0.038061</td>\n",
              "      <td>...</td>\n",
              "      <td>-0.008277</td>\n",
              "      <td>-0.031105</td>\n",
              "      <td>0.044923</td>\n",
              "      <td>0.018262</td>\n",
              "      <td>0.034401</td>\n",
              "      <td>-0.018318</td>\n",
              "      <td>0.026816</td>\n",
              "      <td>0.022182</td>\n",
              "      <td>0.026933</td>\n",
              "      <td>0.019538</td>\n",
              "    </tr>\n",
              "  </tbody>\n",
              "</table>\n",
              "<p>5 rows × 100 columns</p>\n",
              "</div>\n",
              "      <button class=\"colab-df-convert\" onclick=\"convertToInteractive('df-0bda966b-ce81-4eec-a19f-63acbadfb456')\"\n",
              "              title=\"Convert this dataframe to an interactive table.\"\n",
              "              style=\"display:none;\">\n",
              "        \n",
              "  <svg xmlns=\"http://www.w3.org/2000/svg\" height=\"24px\"viewBox=\"0 0 24 24\"\n",
              "       width=\"24px\">\n",
              "    <path d=\"M0 0h24v24H0V0z\" fill=\"none\"/>\n",
              "    <path d=\"M18.56 5.44l.94 2.06.94-2.06 2.06-.94-2.06-.94-.94-2.06-.94 2.06-2.06.94zm-11 1L8.5 8.5l.94-2.06 2.06-.94-2.06-.94L8.5 2.5l-.94 2.06-2.06.94zm10 10l.94 2.06.94-2.06 2.06-.94-2.06-.94-.94-2.06-.94 2.06-2.06.94z\"/><path d=\"M17.41 7.96l-1.37-1.37c-.4-.4-.92-.59-1.43-.59-.52 0-1.04.2-1.43.59L10.3 9.45l-7.72 7.72c-.78.78-.78 2.05 0 2.83L4 21.41c.39.39.9.59 1.41.59.51 0 1.02-.2 1.41-.59l7.78-7.78 2.81-2.81c.8-.78.8-2.07 0-2.86zM5.41 20L4 18.59l7.72-7.72 1.47 1.35L5.41 20z\"/>\n",
              "  </svg>\n",
              "      </button>\n",
              "      \n",
              "  <style>\n",
              "    .colab-df-container {\n",
              "      display:flex;\n",
              "      flex-wrap:wrap;\n",
              "      gap: 12px;\n",
              "    }\n",
              "\n",
              "    .colab-df-convert {\n",
              "      background-color: #E8F0FE;\n",
              "      border: none;\n",
              "      border-radius: 50%;\n",
              "      cursor: pointer;\n",
              "      display: none;\n",
              "      fill: #1967D2;\n",
              "      height: 32px;\n",
              "      padding: 0 0 0 0;\n",
              "      width: 32px;\n",
              "    }\n",
              "\n",
              "    .colab-df-convert:hover {\n",
              "      background-color: #E2EBFA;\n",
              "      box-shadow: 0px 1px 2px rgba(60, 64, 67, 0.3), 0px 1px 3px 1px rgba(60, 64, 67, 0.15);\n",
              "      fill: #174EA6;\n",
              "    }\n",
              "\n",
              "    [theme=dark] .colab-df-convert {\n",
              "      background-color: #3B4455;\n",
              "      fill: #D2E3FC;\n",
              "    }\n",
              "\n",
              "    [theme=dark] .colab-df-convert:hover {\n",
              "      background-color: #434B5C;\n",
              "      box-shadow: 0px 1px 3px 1px rgba(0, 0, 0, 0.15);\n",
              "      filter: drop-shadow(0px 1px 2px rgba(0, 0, 0, 0.3));\n",
              "      fill: #FFFFFF;\n",
              "    }\n",
              "  </style>\n",
              "\n",
              "      <script>\n",
              "        const buttonEl =\n",
              "          document.querySelector('#df-0bda966b-ce81-4eec-a19f-63acbadfb456 button.colab-df-convert');\n",
              "        buttonEl.style.display =\n",
              "          google.colab.kernel.accessAllowed ? 'block' : 'none';\n",
              "\n",
              "        async function convertToInteractive(key) {\n",
              "          const element = document.querySelector('#df-0bda966b-ce81-4eec-a19f-63acbadfb456');\n",
              "          const dataTable =\n",
              "            await google.colab.kernel.invokeFunction('convertToInteractive',\n",
              "                                                     [key], {});\n",
              "          if (!dataTable) return;\n",
              "\n",
              "          const docLinkHtml = 'Like what you see? Visit the ' +\n",
              "            '<a target=\"_blank\" href=https://colab.research.google.com/notebooks/data_table.ipynb>data table notebook</a>'\n",
              "            + ' to learn more about interactive tables.';\n",
              "          element.innerHTML = '';\n",
              "          dataTable['output_type'] = 'display_data';\n",
              "          await google.colab.output.renderOutput(dataTable, element);\n",
              "          const docLink = document.createElement('div');\n",
              "          docLink.innerHTML = docLinkHtml;\n",
              "          element.appendChild(docLink);\n",
              "        }\n",
              "      </script>\n",
              "    </div>\n",
              "  </div>\n",
              "  "
            ]
          },
          "metadata": {},
          "execution_count": 35
        }
      ]
    },
    {
      "cell_type": "code",
      "source": [
        "from sklearn.metrics.pairwise import euclidean_distances\n",
        "\n",
        "distance_matrix = euclidean_distances(weights)\n",
        "print(distance_matrix.shape)\n",
        "\n",
        "similar_words = {search_term: [id_word[idx] for idx in distance_matrix[word_id[search_term]-1].argsort()[1:6]+1] \n",
        "                   for search_term in ['statistics']}\n",
        "\n",
        "similar_words"
      ],
      "metadata": {
        "colab": {
          "base_uri": "https://localhost:8080/"
        },
        "id": "UFs2IAn_LAYS",
        "outputId": "724cf6a4-7c3f-46eb-99a8-89042a952d6a"
      },
      "execution_count": 41,
      "outputs": [
        {
          "output_type": "stream",
          "name": "stdout",
          "text": [
            "(113, 113)\n"
          ]
        },
        {
          "output_type": "execute_result",
          "data": {
            "text/plain": [
              "{'statistics': ['use', 'across', 'unfeasible', 'delivers', 'biological']}"
            ]
          },
          "metadata": {},
          "execution_count": 41
        }
      ]
    },
    {
      "cell_type": "code",
      "source": [],
      "metadata": {
        "id": "5B8WWLu9brPl"
      },
      "execution_count": null,
      "outputs": []
    }
  ]
}