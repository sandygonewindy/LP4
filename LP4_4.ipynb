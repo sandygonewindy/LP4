{
  "nbformat": 4,
  "nbformat_minor": 0,
  "metadata": {
    "colab": {
      "provenance": []
    },
    "kernelspec": {
      "name": "python3",
      "display_name": "Python 3"
    },
    "language_info": {
      "name": "python"
    }
  },
  "cells": [
    {
      "cell_type": "markdown",
      "source": [
        "# LP4 Assignment 4\n",
        "## Sudeep Mangalvedhekar\n",
        "## 43147"
      ],
      "metadata": {
        "id": "Z2QN_nOL416a"
      }
    },
    {
      "cell_type": "code",
      "execution_count": 72,
      "metadata": {
        "id": "gJGKvBzl4lrN"
      },
      "outputs": [],
      "source": [
        "import numpy as np\n",
        "import pandas as pd\n",
        "import tensorflow as tf\n",
        "import tensorflow.keras.layers as tfl\n",
        "from sklearn.metrics import accuracy_score, precision_score, recall_score\n",
        "from sklearn.model_selection import train_test_split\n",
        "from sklearn.preprocessing import MinMaxScaler\n",
        "from tensorflow.keras import Model, Sequential\n",
        "from matplotlib import pyplot as plt"
      ]
    },
    {
      "cell_type": "code",
      "source": [
        "def load_dataset():\n",
        "  dataframe = pd.read_csv('http://storage.googleapis.com/download.tensorflow.org/data/ecg.csv', header=None)\n",
        "  raw_data = dataframe.values\n",
        "\n",
        "  labels = raw_data[:, -1]\n",
        "  data = raw_data[:, 0 : -1]\n",
        "\n",
        "  train_data, test_data, train_labels, test_labels = train_test_split(\n",
        "      data, labels, test_size = 0.2, random_state = 21\n",
        "  )\n",
        "  return [train_data, train_labels, test_data, test_labels]"
      ],
      "metadata": {
        "id": "H0fBCLpD66hH"
      },
      "execution_count": 73,
      "outputs": []
    },
    {
      "cell_type": "code",
      "source": [
        "def normalize(train_data, test_data):\n",
        "  min_max_scaler = MinMaxScaler(feature_range=(0, 1))\n",
        "  train_data = min_max_scaler.fit_transform(train_data)\n",
        "  test_data = min_max_scaler.transform(test_data)\n",
        "  return [train_data, test_data]"
      ],
      "metadata": {
        "id": "UXwXRfCl88S7"
      },
      "execution_count": 74,
      "outputs": []
    },
    {
      "cell_type": "code",
      "source": [
        "def pre_process_data(train_data, test_data, train_labels, test_labels):\n",
        "  train_labels = train_labels.astype(bool)\n",
        "  test_labels = test_labels.astype(bool)\n",
        "\n",
        "  normal_train_data = train_data[train_labels]\n",
        "  normal_test_data = test_data[test_labels]\n",
        "\n",
        "  anomalous_train_data = train_data[~train_labels]\n",
        "  anomalous_test_data = test_data[~test_labels]\n",
        "  return [normal_train_data, normal_test_data, anomalous_train_data, anomalous_test_data]"
      ],
      "metadata": {
        "id": "yRAGcmFc9f2d"
      },
      "execution_count": 75,
      "outputs": []
    },
    {
      "cell_type": "code",
      "source": [
        "def model_def():\n",
        "  class AnomalyDetector(Model):\n",
        "    def __init__(self):\n",
        "      super(AnomalyDetector, self).__init__()\n",
        "      self.encoder = tf.keras.Sequential([\n",
        "        tfl.Dense(32, activation = \"relu\"),\n",
        "        tfl.Dense(16, activation = \"relu\"),\n",
        "        tfl.Dense(8, activation = \"relu\")])\n",
        "\n",
        "      self.decoder = tf.keras.Sequential([\n",
        "        tfl.Dense(16, activation = \"relu\"),\n",
        "        tfl.Dense(32, activation = \"relu\"),\n",
        "        tfl.Dense(140, activation = \"sigmoid\")])\n",
        "\n",
        "    def call(self, x):\n",
        "      encoded = self.encoder(x)\n",
        "      decoded = self.decoder(encoded)\n",
        "      return decoded\n",
        "\n",
        "  autoencoder = AnomalyDetector()\n",
        "  autoencoder.compile(optimizer = 'adam', loss = 'mse')\n",
        "  return autoencoder"
      ],
      "metadata": {
        "id": "DZNE-vUp-Qu6"
      },
      "execution_count": 76,
      "outputs": []
    },
    {
      "cell_type": "code",
      "source": [
        "def train_model():\n",
        "  # load data\n",
        "  train_data, train_labels, test_data, test_labels = load_dataset()\n",
        "  # normalize data\n",
        "  train_data, test_data = normalize(train_data, test_data)\n",
        "  # pre process data\n",
        "  normal_train_data, normal_test_data, anomalous_train_data, anomalous_test_data = pre_process_data(train_data, test_data, train_labels, test_labels)\n",
        "\n",
        "  model = model_def()\n",
        "  model_history = model.fit(normal_train_data, normal_train_data, epochs = 20, batch_size = 512, shuffle = True)\n",
        "  return [model, model_history, normal_train_data, normal_test_data, test_data, test_labels]"
      ],
      "metadata": {
        "id": "JBNPhMrf_NpJ"
      },
      "execution_count": 77,
      "outputs": []
    },
    {
      "cell_type": "code",
      "source": [
        "def plot_performance(model_history):\n",
        "  plt.title(\"Training Loss\")\n",
        "  plt.plot(model_history.history[\"loss\"])\n",
        "  plt.show()"
      ],
      "metadata": {
        "id": "qHfvB0qNAhWg"
      },
      "execution_count": 78,
      "outputs": []
    },
    {
      "cell_type": "code",
      "source": [
        "# train model\n",
        "model, model_history, normal_train_data, normal_test_data, test_data, test_labels = train_model()"
      ],
      "metadata": {
        "colab": {
          "base_uri": "https://localhost:8080/"
        },
        "id": "XmGT6y6kB7l-",
        "outputId": "be01896b-509a-43df-adea-f5e12244f2ee"
      },
      "execution_count": 79,
      "outputs": [
        {
          "output_type": "stream",
          "name": "stdout",
          "text": [
            "Epoch 1/20\n",
            "5/5 [==============================] - 1s 7ms/step - loss: 0.0255\n",
            "Epoch 2/20\n",
            "5/5 [==============================] - 0s 6ms/step - loss: 0.0236\n",
            "Epoch 3/20\n",
            "5/5 [==============================] - 0s 7ms/step - loss: 0.0213\n",
            "Epoch 4/20\n",
            "5/5 [==============================] - 0s 6ms/step - loss: 0.0186\n",
            "Epoch 5/20\n",
            "5/5 [==============================] - 0s 5ms/step - loss: 0.0159\n",
            "Epoch 6/20\n",
            "5/5 [==============================] - 0s 5ms/step - loss: 0.0133\n",
            "Epoch 7/20\n",
            "5/5 [==============================] - 0s 5ms/step - loss: 0.0111\n",
            "Epoch 8/20\n",
            "5/5 [==============================] - 0s 6ms/step - loss: 0.0094\n",
            "Epoch 9/20\n",
            "5/5 [==============================] - 0s 5ms/step - loss: 0.0080\n",
            "Epoch 10/20\n",
            "5/5 [==============================] - 0s 5ms/step - loss: 0.0071\n",
            "Epoch 11/20\n",
            "5/5 [==============================] - 0s 5ms/step - loss: 0.0064\n",
            "Epoch 12/20\n",
            "5/5 [==============================] - 0s 6ms/step - loss: 0.0059\n",
            "Epoch 13/20\n",
            "5/5 [==============================] - 0s 6ms/step - loss: 0.0056\n",
            "Epoch 14/20\n",
            "5/5 [==============================] - 0s 6ms/step - loss: 0.0054\n",
            "Epoch 15/20\n",
            "5/5 [==============================] - 0s 7ms/step - loss: 0.0052\n",
            "Epoch 16/20\n",
            "5/5 [==============================] - 0s 6ms/step - loss: 0.0051\n",
            "Epoch 17/20\n",
            "5/5 [==============================] - 0s 6ms/step - loss: 0.0050\n",
            "Epoch 18/20\n",
            "5/5 [==============================] - 0s 5ms/step - loss: 0.0050\n",
            "Epoch 19/20\n",
            "5/5 [==============================] - 0s 6ms/step - loss: 0.0050\n",
            "Epoch 20/20\n",
            "5/5 [==============================] - 0s 7ms/step - loss: 0.0049\n"
          ]
        }
      ]
    },
    {
      "cell_type": "code",
      "source": [
        "# plot performance\n",
        "plot_performance(model_history)"
      ],
      "metadata": {
        "colab": {
          "base_uri": "https://localhost:8080/",
          "height": 281
        },
        "id": "d5NQIGy3CD3P",
        "outputId": "7ff2bcbc-687e-407e-9e3c-3671b1a26891"
      },
      "execution_count": 80,
      "outputs": [
        {
          "output_type": "display_data",
          "data": {
            "text/plain": [
              "<Figure size 432x288 with 1 Axes>"
            ],
            "image/png": "[encoded data removed]"
          },
          "metadata": {
            "needs_background": "light"
          }
        }
      ]
    },
    {
      "cell_type": "code",
      "source": [
        "def define_threshold(normal_train_data):\n",
        "  reconstructions = model.predict(normal_train_data)\n",
        "  train_loss = tf.keras.losses.mae(reconstructions, normal_train_data)\n",
        "  threshold = np.mean(train_loss) + np.std(train_loss)\n",
        "  return threshold"
      ],
      "metadata": {
        "id": "wX0ho6vuCpoK"
      },
      "execution_count": 81,
      "outputs": []
    },
    {
      "cell_type": "code",
      "source": [
        "def detect_anomaly(threshold, test_data):\n",
        "  reconstructions = model(test_data)\n",
        "  loss = tf.keras.losses.mae(reconstructions, test_data)\n",
        "  return tf.math.less(loss, threshold)"
      ],
      "metadata": {
        "id": "_XBE8kshED2P"
      },
      "execution_count": 82,
      "outputs": []
    },
    {
      "cell_type": "code",
      "source": [
        "def evaluate_model(prediction, test_labels):\n",
        "  print(\"Accuracy = {}\".format(accuracy_score(test_labels, prediction)))\n",
        "  print(\"Precision = {}\".format(precision_score(test_labels, prediction)))\n",
        "  print(\"Recall = {}\".format(recall_score(test_labels, prediction)))"
      ],
      "metadata": {
        "id": "7N-a_CdNHURK"
      },
      "execution_count": 83,
      "outputs": []
    },
    {
      "cell_type": "code",
      "source": [
        "# get threshold\n",
        "threshold = define_threshold(normal_train_data)\n",
        "# detect anomaly\n",
        "prediction = detect_anomaly(threshold, test_data)"
      ],
      "metadata": {
        "colab": {
          "base_uri": "https://localhost:8080/"
        },
        "id": "on3AeeObIPQr",
        "outputId": "25fadf76-50c5-4a24-cee8-58afbc505f3d"
      },
      "execution_count": 84,
      "outputs": [
        {
          "output_type": "stream",
          "name": "stdout",
          "text": [
            "74/74 [==============================] - 0s 1ms/step\n"
          ]
        }
      ]
    },
    {
      "cell_type": "code",
      "source": [
        "# evaluate model\n",
        "evaluate_model(prediction, test_labels)"
      ],
      "metadata": {
        "colab": {
          "base_uri": "https://localhost:8080/"
        },
        "id": "P2Uny82sIgLd",
        "outputId": "0e426426-34ca-46ae-9d73-7b18130b7ae1"
      },
      "execution_count": 85,
      "outputs": [
        {
          "output_type": "stream",
          "name": "stdout",
          "text": [
            "Accuracy = 0.944\n",
            "Precision = 0.9921875\n",
            "Recall = 0.9071428571428571\n"
          ]
        }
      ]
    },
    {
      "cell_type": "code",
      "source": [],
      "metadata": {
        "id": "4jakYvgAI5-2"
      },
      "execution_count": null,
      "outputs": []
    }
  ]
}